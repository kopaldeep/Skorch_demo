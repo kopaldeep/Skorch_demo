{
  "nbformat": 4,
  "nbformat_minor": 0,
  "metadata": {
    "colab": {
      "private_outputs": true,
      "provenance": [],
      "authorship_tag": "ABX9TyOYdOXL1gmfxN+RHhh3fhI2"
    },
    "kernelspec": {
      "name": "python3",
      "display_name": "Python 3"
    },
    "language_info": {
      "name": "python"
    }
  },
  "cells": [
    {
      "cell_type": "code",
      "source": [
        "# Digit Classifier using USPS dataset and Skorch Library\n",
        "# Author : Kopal Rastogi\n",
        "# Created : Mar-23-2024\n",
        "# Keywords : CNN, Skorch, USPS dataset, Early stopping, Dropout\n",
        "# Assumptions : None"
      ],
      "metadata": {
        "id": "gGNnb2xxpSxo"
      },
      "execution_count": null,
      "outputs": []
    },
    {
      "cell_type": "code",
      "execution_count": null,
      "metadata": {
        "id": "CJ1-H6KCpEoX"
      },
      "outputs": [],
      "source": [
        "# Installing Skorch library. Required only once. Uncomment and run if library is not installed.\n",
        "!pip install skorch"
      ]
    },
    {
      "cell_type": "code",
      "source": [
        "print('Importing Libraries... ',end='')\n",
        "import numpy as np\n",
        "from sklearn.datasets import fetch_openml\n",
        "from sklearn.model_selection import train_test_split\n",
        "from skorch import NeuralNetClassifier\n",
        "from skorch.callbacks import EarlyStopping\n",
        "from skorch.dataset import Dataset\n",
        "import torch\n",
        "from torch import nn\n",
        "import torch.nn.functional as F\n",
        "import matplotlib.pyplot as plt\n",
        "import random\n",
        "print('Done')"
      ],
      "metadata": {
        "id": "w8qhbaOspJcS"
      },
      "execution_count": null,
      "outputs": []
    },
    {
      "cell_type": "code",
      "source": [
        "# Loading the data\n",
        "print('Loading data... ',)\n",
        "X, y = fetch_openml('usps', return_X_y=True)\n",
        "print('Done')\n",
        "\n",
        "# Get dataset statitics\n",
        "print('Dataset statistics... ')\n",
        "print(X.shape,y.shape)"
      ],
      "metadata": {
        "id": "I8H-fxxmqViV"
      },
      "execution_count": null,
      "outputs": []
    },
    {
      "cell_type": "code",
      "source": [
        "# Preprocessing\n",
        "X = X / 16.0 # Scale the input to [0, 1] range\n",
        "X = X.values.reshape(-1, 1, 16, 16).astype(np.float32) # Reshape for CNN input\n",
        "y = y.astype('int')-1"
      ],
      "metadata": {
        "id": "msB5IywwzbDL"
      },
      "execution_count": null,
      "outputs": []
    },
    {
      "cell_type": "code",
      "source": [
        "# Display 5 random samples along with their labels\n",
        "num_samples = 5\n",
        "random_indices = random.sample(range(len(X)), num_samples)\n",
        "\n",
        "fig, axes = plt.subplots(1, num_samples, figsize=(12, 3))\n",
        "for i, idx in enumerate(random_indices):\n",
        "    axes[i].imshow(X[idx].reshape(16, 16), cmap='gray')\n",
        "    axes[i].set_title(f'Label: {y[idx]}')\n",
        "    axes[i].axis('off')\n",
        "\n",
        "plt.show()"
      ],
      "metadata": {
        "id": "NDwMdJAvzEW3"
      },
      "execution_count": null,
      "outputs": []
    },
    {
      "cell_type": "code",
      "source": [
        "# Split train-test data in 70:30\n",
        "X_train, X_test, y_train, y_test = train_test_split(X, y, test_size=0.3, random_state=11)"
      ],
      "metadata": {
        "id": "bth89wj4rrHi"
      },
      "execution_count": null,
      "outputs": []
    },
    {
      "cell_type": "code",
      "source": [
        "# Define CNN model\n",
        "class DigitClassifier(nn.Module):\n",
        "    def __init__(self):\n",
        "        super(DigitClassifier, self).__init__()\n",
        "        self.conv1 = nn.Conv2d(1, 32, kernel_size=3, padding=1)\n",
        "        self.conv2 = nn.Conv2d(32, 64, kernel_size=3, padding=1)\n",
        "        self.conv3 = nn.Conv2d(64, 128, kernel_size=3, padding=1)\n",
        "        self.fc1 = nn.Linear(128 * 4 * 4, 256)\n",
        "        self.dropout = nn.Dropout(0.2)\n",
        "        self.fc2 = nn.Linear(256, 10)\n",
        "\n",
        "    def forward(self, x):\n",
        "        x = F.relu(self.conv1(x))\n",
        "        x = F.max_pool2d(x, 2)\n",
        "        x = F.relu(self.conv2(x))\n",
        "        x = F.max_pool2d(x, 2)\n",
        "        x = F.relu(self.conv3(x))\n",
        "        x = x.view(-1, 128 * 4 * 4)\n",
        "        x = F.relu(self.fc1(x))\n",
        "        x = self.dropout(x)\n",
        "        x = self.fc2(x)\n",
        "        return x"
      ],
      "metadata": {
        "id": "BDno0pmiqrmm"
      },
      "execution_count": null,
      "outputs": []
    },
    {
      "cell_type": "code",
      "source": [
        "# Hyperparameters\n",
        "max_epochs = 25\n",
        "lr = 0.001\n",
        "batch_size = 32\n",
        "patience = 5\n",
        "device = 'cuda' if torch.cuda.is_available() else 'cpu'"
      ],
      "metadata": {
        "id": "7ckL1aaCz7j-"
      },
      "execution_count": null,
      "outputs": []
    },
    {
      "cell_type": "code",
      "source": [
        "# Wrap the model in Skorch NeuralNetClassifier\n",
        "digit_classifier = NeuralNetClassifier(\n",
        "    module = DigitClassifier,\n",
        "    max_epochs = max_epochs,\n",
        "    lr = lr,\n",
        "    iterator_train__batch_size = batch_size,\n",
        "    iterator_train__shuffle = True,\n",
        "    iterator_valid__batch_size = batch_size,\n",
        "    iterator_valid__shuffle = False,\n",
        "    criterion = nn.CrossEntropyLoss,\n",
        "    optimizer = torch.optim.Adam,\n",
        "    callbacks = [EarlyStopping(patience=5)],\n",
        "    device = device\n",
        ")"
      ],
      "metadata": {
        "id": "pC666hNysrHi"
      },
      "execution_count": null,
      "outputs": []
    },
    {
      "cell_type": "code",
      "source": [
        "# Train the model\n",
        "print('Using...', device)\n",
        "print(\"Training started...\")\n",
        "digit_classifier.fit(X_train, y_train)\n",
        "print(\"Training completed!\")\n",
        "\n",
        "# Evaluate the model\n",
        "# Evaluate on test data\n",
        "y_pred = digit_classifier.predict(X_test)\n",
        "accuracy = digit_classifier.score(X_test, y_test)\n",
        "print(f'Test accuracy: {accuracy:.4f}')"
      ],
      "metadata": {
        "id": "NZRc3SXls4Oq"
      },
      "execution_count": null,
      "outputs": []
    },
    {
      "cell_type": "code",
      "source": [
        "y_pred = digit_classifier.predict(X_test)"
      ],
      "metadata": {
        "id": "mXH88rAp7U0K"
      },
      "execution_count": null,
      "outputs": []
    },
    {
      "cell_type": "code",
      "source": [
        "# Plot training loss and accuracy\n",
        "plt.figure(figsize=(12, 4))\n",
        "plt.subplot(1, 2, 1)\n",
        "plt.plot(digit_classifier.history[:, 'train_loss'], label='Train Loss')\n",
        "plt.xlabel('Epoch')\n",
        "plt.ylabel('Loss')\n",
        "plt.title('Training Loss')\n",
        "plt.legend()\n",
        "\n",
        "plt.subplot(1, 2, 2)\n",
        "plt.plot(digit_classifier.history[:, 'valid_acc'], label='Train Accuracy')\n",
        "plt.xlabel('Epoch')\n",
        "plt.ylabel('Accuracy')\n",
        "plt.title('Validation Accuracy')\n",
        "plt.legend()\n",
        "plt.show()"
      ],
      "metadata": {
        "id": "rPRP7ixC6bf1"
      },
      "execution_count": null,
      "outputs": []
    },
    {
      "cell_type": "code",
      "source": [
        "from sklearn.metrics import confusion_matrix, f1_score\n",
        "import seaborn as sns\n",
        "cm = confusion_matrix(y_test, y_pred)\n",
        "plt.figure(figsize=(10, 8))\n",
        "sns.heatmap(cm, annot=True, fmt=\"d\", cmap=\"Blues\")\n",
        "plt.title(\"Confusion Matrix\")\n",
        "plt.xlabel(\"Predicted Label\")\n",
        "plt.ylabel(\"True Label\")\n",
        "plt.show()"
      ],
      "metadata": {
        "id": "11sZIua66xnL"
      },
      "execution_count": null,
      "outputs": []
    },
    {
      "cell_type": "code",
      "source": [
        "# F1 score\n",
        "f1 = f1_score(y_test, y_pred, average='weighted')\n",
        "print(f\"F1 Score: {f1:.4f}\")"
      ],
      "metadata": {
        "id": "w1hMuTPe7fy4"
      },
      "execution_count": null,
      "outputs": []
    }
  ]
}